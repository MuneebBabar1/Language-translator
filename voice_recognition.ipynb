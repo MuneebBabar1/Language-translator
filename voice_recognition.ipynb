{
 "cells": [
  {
   "cell_type": "code",
   "execution_count": 2,
   "metadata": {},
   "outputs": [],
   "source": [
    "import tkinter as tk\n",
    "import speech_recognition as sr\n",
    "import pyttsx3\n",
    "from transformers import pipeline"
   ]
  },
  {
   "cell_type": "code",
   "execution_count": 6,
   "metadata": {},
   "outputs": [
    {
     "name": "stderr",
     "output_type": "stream",
     "text": [
      "You set `add_prefix_space`. The tokenizer needs to be converted from the slow tokenizers\n",
      "c:\\Users\\PMLS\\anaconda3\\Lib\\site-packages\\transformers\\convert_slow_tokenizer.py:562: UserWarning: The sentencepiece tokenizer that you are converting to a fast tokenizer uses the byte fallback option which is not implemented in the fast tokenizers. In practice this means that the fast version of the tokenizer can produce unknown tokens whereas the sentencepiece version would have converted these unknown tokens into a sequence of byte tokens matching the original piece of text.\n",
      "  warnings.warn(\n"
     ]
    }
   ],
   "source": [
    "translation_pipeline = pipeline('translation', model='./en_ur_translator', tokenizer='./en_ur_translator')"
   ]
  },
  {
   "cell_type": "code",
   "execution_count": 20,
   "metadata": {},
   "outputs": [],
   "source": [
    "import tkinter as tk  \n",
    "import speech_recognition as sr  \n",
    "import pyttsx3  \n",
    "from transformers import pipeline  \n",
    "from threading import Thread  \n",
    "import pyperclip  # For copying text to clipboard\n",
    "\n",
    "# Initialize the recognizer for speech recognition\n",
    "r = sr.Recognizer()   \n",
    "\n",
    "# Initialize the Text-to-Speech engine\n",
    "engine = pyttsx3.init()  \n",
    "\n",
    "# Function to convert text to speech\n",
    "def SpeakText(command):  \n",
    "    \"\"\"\n",
    "    Convert the given text command to speech and play it.\n",
    "    \n",
    "    Args:\n",
    "        command (str): The text to be converted to speech.\n",
    "    \"\"\"\n",
    "    engine.say(command)  \n",
    "    engine.runAndWait()  \n",
    "\n",
    "# Function to listen to the user's input and translate it\n",
    "def listen():  \n",
    "    \"\"\"\n",
    "    Listen to the user's speech, recognize it, translate it, and update the UI.\n",
    "    \"\"\"\n",
    "    try:  \n",
    "        with sr.Microphone() as source:  \n",
    "            r.adjust_for_ambient_noise(source, duration=0.1)  # Adjust for ambient noise\n",
    "            status_label.config(text=\"Listening...\")  # Update status label to indicate listening\n",
    "            audio2 = r.listen(source, timeout=5, phrase_time_limit=5)  # Capture audio input from the microphone\n",
    "            MyText = r.recognize_google(audio2)  # Recognize speech using Google Web Speech API\n",
    "            MyText = MyText.lower()  # Convert text to lowercase\n",
    "\n",
    "            # Translate the recognized text\n",
    "            translated_text = translation_pipeline(MyText)  \n",
    "            translated_result = translated_text[0]['translation_text']  \n",
    "\n",
    "            # Update the UI with the recognized and translated text\n",
    "            output_text.delete(1.0, tk.END)  # Clear previous text\n",
    "            output_text.insert(tk.END, f\"User: {MyText}\\nTranslated: {translated_result}\")  \n",
    "\n",
    "            # Convert translated text to speech\n",
    "            SpeakText(translated_result)  \n",
    "            status_label.config(text=\"Done.\")  # Update status label to indicate completion\n",
    "    except sr.RequestError as e:  \n",
    "        # Handle API request errors\n",
    "        status_label.config(text=f\"Could not request results; {0}\".format(e))  \n",
    "    except sr.UnknownValueError:  \n",
    "        # Handle errors when speech is unintelligible\n",
    "        status_label.config(text=\"Unknown error occurred.\")  \n",
    "    except sr.WaitTimeoutError:  \n",
    "        # Handle timeouts during speech recognition\n",
    "        status_label.config(text=\"Listening timed out while waiting for phrase to start.\")  \n",
    "\n",
    "# Function to start listening in a separate thread\n",
    "def start_listening():  \n",
    "    \"\"\"\n",
    "    Start the listening function in a separate thread to keep the UI responsive.\n",
    "    \"\"\"\n",
    "    thread = Thread(target=listen)  # Create a new thread to run the listen function\n",
    "    thread.start()  \n",
    "\n",
    "# Function to translate manually entered text\n",
    "def translate_text():  \n",
    "    \"\"\"\n",
    "    Translate text manually entered into the input field and update the UI.\n",
    "    \"\"\"\n",
    "    input_text = input_entry.get(\"1.0\", tk.END).strip()  # Get and clean the input text\n",
    "    if input_text:  # Check if there is any input text\n",
    "        translated_text = translation_pipeline(input_text)  \n",
    "        translated_result = translated_text[0]['translation_text']  \n",
    "        output_text.delete(1.0, tk.END)  # Clear previous text\n",
    "        output_text.insert(tk.END, f\"User: {input_text}\\nTranslated: {translated_result}\")  \n",
    "\n",
    "# Function to copy translated text to clipboard\n",
    "def copy_to_clipboard():  \n",
    "    \"\"\"\n",
    "    Copy the translated text from the output field to the clipboard.\n",
    "    \"\"\"\n",
    "    translated_text = output_text.get(\"1.0\", tk.END).strip()  # Get and clean the text from the output field\n",
    "    if translated_text:  # Check if there is any text to copy\n",
    "        pyperclip.copy(translated_text)  # Copy the text to the clipboard\n",
    "\n",
    "# Set up the main Tkinter window\n",
    "root = tk.Tk()  \n",
    "root.title(\"Speech Recognition and Translation App\")  \n",
    "\n",
    "# Create a label for status\n",
    "status_label = tk.Label(root, text=\"Press 'Start Listening' to talk\", font=(\"Helvetica\", 14))  \n",
    "status_label.pack(pady=10)  # Add padding around the label\n",
    "\n",
    "# Create a button to start listening\n",
    "start_button = tk.Button(root, text=\"Start Listening\", command=start_listening, font=(\"Helvetica\", 14))  \n",
    "start_button.pack(pady=10)  # Add padding around the button\n",
    "\n",
    "# Create an entry for manual text input\n",
    "input_entry = tk.Text(root, wrap=tk.WORD, height=4, width=50, font=(\"Helvetica\", 12))  \n",
    "input_entry.pack(pady=10)  # Add padding around the text entry field\n",
    "\n",
    "# Create a button to translate manually entered text\n",
    "translate_button = tk.Button(root, text=\"Translate Manually\", command=translate_text, font=(\"Helvetica\", 14))  \n",
    "translate_button.pack(pady=10)  # Add padding around the button\n",
    "\n",
    "# Create a text area to display output\n",
    "output_text = tk.Text(root, wrap=tk.WORD, height=10, width=50, font=(\"Helvetica\", 12))  \n",
    "output_text.pack(pady=10)  # Add padding around the text output field\n",
    "\n",
    "# Create a button to copy translated text to clipboard\n",
    "copy_button = tk.Button(root, text=\"Copy Translated Text\", command=copy_to_clipboard, font=(\"Helvetica\", 14))  \n",
    "copy_button.pack(pady=10)  # Add padding around the button\n",
    "\n",
    "# Start the Tkinter event loop\n",
    "root.mainloop()  \n"
   ]
  },
  {
   "cell_type": "code",
   "execution_count": null,
   "metadata": {},
   "outputs": [],
   "source": []
  },
  {
   "cell_type": "code",
   "execution_count": null,
   "metadata": {},
   "outputs": [],
   "source": []
  },
  {
   "cell_type": "code",
   "execution_count": null,
   "metadata": {},
   "outputs": [],
   "source": []
  },
  {
   "cell_type": "code",
   "execution_count": null,
   "metadata": {},
   "outputs": [],
   "source": []
  },
  {
   "cell_type": "code",
   "execution_count": null,
   "metadata": {},
   "outputs": [],
   "source": []
  },
  {
   "cell_type": "code",
   "execution_count": null,
   "metadata": {},
   "outputs": [],
   "source": []
  },
  {
   "cell_type": "code",
   "execution_count": 4,
   "metadata": {},
   "outputs": [
    {
     "name": "stdout",
     "output_type": "stream",
     "text": [
      "Listning......\n",
      "unknown error occurred\n",
      "Listning......\n",
      "unknown error occurred\n",
      "Listning......\n",
      "unknown error occurred\n",
      "Listning......\n",
      "unknown error occurred\n",
      "Listning......\n",
      "unknown error occurred\n",
      "Listning......\n",
      "unknown error occurred\n",
      "Listning......\n",
      "unknown error occurred\n",
      "Listning......\n",
      "unknown error occurred\n",
      "Listning......\n",
      "unknown error occurred\n",
      "Listning......\n",
      "unknown error occurred\n",
      "Listning......\n",
      "unknown error occurred\n",
      "Listning......\n",
      "unknown error occurred\n",
      "Listning......\n",
      "User:  how are you\n"
     ]
    },
    {
     "name": "stderr",
     "output_type": "stream",
     "text": [
      "c:\\Users\\PMLS\\anaconda3\\Lib\\site-packages\\transformers\\generation\\utils.py:1249: UserWarning: Using the model-agnostic default `max_length` (=20) to control the generation length. We recommend setting `max_new_tokens` to control the maximum length of the generation.\n",
      "  warnings.warn(\n"
     ]
    },
    {
     "ename": "NameError",
     "evalue": "name 'translated_result' is not defined",
     "output_type": "error",
     "traceback": [
      "\u001b[1;31m---------------------------------------------------------------------------\u001b[0m",
      "\u001b[1;31mNameError\u001b[0m                                 Traceback (most recent call last)",
      "Cell \u001b[1;32mIn[4], line 33\u001b[0m\n\u001b[0;32m     29\u001b[0m \u001b[38;5;28mprint\u001b[39m(\u001b[38;5;124m\"\u001b[39m\u001b[38;5;124mUser: \u001b[39m\u001b[38;5;124m\"\u001b[39m,MyText)\n\u001b[0;32m     32\u001b[0m translated_text \u001b[38;5;241m=\u001b[39m translation_pipeline(MyText)\n\u001b[1;32m---> 33\u001b[0m translated_result \u001b[38;5;241m=\u001b[39m translated_result[\u001b[38;5;241m0\u001b[39m][\u001b[38;5;124m'\u001b[39m\u001b[38;5;124mtranslation_text\u001b[39m\u001b[38;5;124m'\u001b[39m]\n\u001b[0;32m     34\u001b[0m \u001b[38;5;28mprint\u001b[39m(translated_text)\n\u001b[0;32m     37\u001b[0m SpeakText(translated_result)\n",
      "\u001b[1;31mNameError\u001b[0m: name 'translated_result' is not defined"
     ]
    }
   ],
   "source": [
    "\n",
    "# Initialize the recognizer \n",
    "r = sr.Recognizer() \n",
    "\n",
    "# Initialize the Text-to-Speech engine once\n",
    "engine = pyttsx3.init()\n",
    "\n",
    "\n",
    "# Function to convert text to speech\n",
    "def SpeakText(command):\n",
    "\tengine.say(command)\n",
    "\tengine.runAndWait()\n",
    "\n",
    "# Loop infinitely for user to speak\n",
    "while True:\n",
    "\t# Exception handling to handle exceptions at runtime\n",
    "\ttry:\n",
    "\t\t# Use the microphone as source for input\n",
    "\t\twith sr.Microphone() as source2:\n",
    "\t\t\t# Reduce the duration for adjusting ambient noise\n",
    "\t\t\tr.adjust_for_ambient_noise(source2, duration=0.1)\n",
    "\t\t\tprint(\"Listning......\")\n",
    "\t\t\t\n",
    "\t\t\t# Listen for the user's input in non-blocking mode\n",
    "\t\t\taudio2 = r.listen(source2, timeout=5, phrase_time_limit=5)\n",
    "\t\t\t\n",
    "\t\t\t# Using Google to recognize audio\n",
    "\t\t\tMyText = r.recognize_google(audio2)\n",
    "\t\t\tMyText = MyText.lower()\n",
    "\t\t\tprint(\"User: \",MyText)\n",
    "\n",
    "\t\t\t\n",
    "\t\t\ttranslated_text = translation_pipeline(MyText)\n",
    "\t\t\ttranslated_result = translated_result[0]['translation_text']\n",
    "\t\t\tprint(translated_text)\n",
    "\n",
    "\t\t\t\n",
    "\t\t\tSpeakText(translated_result)\n",
    "\texcept sr.RequestError as e:\n",
    "\t\tprint(\"Could not request results; {0}\".format(e))\n",
    "\t\t\n",
    "\texcept sr.UnknownValueError:\n",
    "\t\tprint(\"unknown error occurred\")\n",
    "\t\t\n",
    "\texcept sr.WaitTimeoutError:\n",
    "\t\tprint(\"Listening timed out while waiting for phrase to start\")\n"
   ]
  },
  {
   "cell_type": "code",
   "execution_count": 19,
   "metadata": {},
   "outputs": [
    {
     "name": "stderr",
     "output_type": "stream",
     "text": [
      "c:\\Users\\PMLS\\anaconda3\\Lib\\site-packages\\transformers\\generation\\utils.py:1249: UserWarning: Using the model-agnostic default `max_length` (=20) to control the generation length. We recommend setting `max_new_tokens` to control the maximum length of the generation.\n",
      "  warnings.warn(\n"
     ]
    }
   ],
   "source": []
  },
  {
   "cell_type": "code",
   "execution_count": null,
   "metadata": {},
   "outputs": [],
   "source": []
  },
  {
   "cell_type": "code",
   "execution_count": null,
   "metadata": {},
   "outputs": [],
   "source": []
  },
  {
   "cell_type": "code",
   "execution_count": null,
   "metadata": {},
   "outputs": [],
   "source": []
  }
 ],
 "metadata": {
  "kernelspec": {
   "display_name": "base",
   "language": "python",
   "name": "python3"
  },
  "language_info": {
   "codemirror_mode": {
    "name": "ipython",
    "version": 3
   },
   "file_extension": ".py",
   "mimetype": "text/x-python",
   "name": "python",
   "nbconvert_exporter": "python",
   "pygments_lexer": "ipython3",
   "version": "3.11.7"
  }
 },
 "nbformat": 4,
 "nbformat_minor": 2
}
